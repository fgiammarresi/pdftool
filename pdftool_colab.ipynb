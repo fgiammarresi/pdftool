# pdftool_colab.ipynb

# 1. Installazione delle librerie richieste
!pip install -r https://raw.githubusercontent.com/fgiammarresi/pdftool/main/requirements.txt

# 2. Clonare il repository (se non già clonato)
import os

if not os.path.exists('pdftool'):
    !git clone https://github.com/fgiammarresi/pdftool.git

# 3. Upload del file PDF da elaborare
from google.colab import files

print("📂 Carica il file PDF da elaborare:")
uploaded = files.upload()

# 4. Salvataggio del file caricato nella cartella pdftool
import shutil

for filename in uploaded.keys():
    shutil.move(filename, f"./pdftool/{filename}")
    pdf_path = f"./pdftool/{filename}"

print(f"✅ PDF caricato correttamente: {pdf_path}")

# 5. Selezione dell'operazione
import ipywidgets as widgets
from IPython.display import display, clear_output

operation = widgets.RadioButtons(
    options=['Trascrizione', 'Traduzione', 'Sintesi'],
    description='Operazione:',
    disabled=False
)
display(operation)

# 6. Pulsante per eseguire l'azione
button = widgets.Button(description="Esegui")
output = widgets.Output()

def on_button_clicked(b):
    with output:
        clear_output()
        print(f"🔵 Esecuzione: {operation.value}")
        
        if operation.value == 'Trascrizione':
            !python pdftool/src/main.py --action transcribe --file {pdf_path}
        elif operation.value == 'Traduzione':
            !python pdftool/src/main.py --action translate --file {pdf_path}
        elif operation.value == 'Sintesi':
            !python pdftool/src/main.py --action summarize --file {pdf_path}

button.on_click(on_button_clicked)
display(button, output)
