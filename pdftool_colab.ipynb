{
  "nbformat": 4,
  "nbformat_minor": 0,
  "metadata": {
    "colab": {
      "provenance": [],
      "authorship_tag": "ABX9TyM8a6wMdq5I6yvwi03U+9CE",
      "include_colab_link": true
    },
    "kernelspec": {
      "name": "python3",
      "display_name": "Python 3"
    },
    "language_info": {
      "name": "python"
    }
  },
  "cells": [
    {
      "cell_type": "markdown",
      "metadata": {
        "id": "view-in-github",
        "colab_type": "text"
      },
      "source": [
        "<a href=\"https://colab.research.google.com/github/fgiammarresi/pdftool/blob/main/pdftool_colab.ipynb\" target=\"_parent\"><img src=\"https://colab.research.google.com/assets/colab-badge.svg\" alt=\"Open In Colab\"/></a>"
      ]
    },
    {
      "cell_type": "code",
      "execution_count": null,
      "metadata": {
        "id": "rUUXMbeilDNL"
      },
      "outputs": [],
      "source": [
        "# pdftool_colab.ipynb\n",
        "\n",
        "# 1. Installazione delle librerie richieste\n",
        "!pip install -r https://raw.githubusercontent.com/fgiammarresi/pdftool/main/requirements.txt\n",
        "\n",
        "# 2. Clonare il repository (se non già clonato)\n",
        "import os\n",
        "\n",
        "if not os.path.exists('pdftool'):\n",
        "    !git clone https://github.com/fgiammarresi/pdftool.git\n",
        "\n",
        "# 3. Upload del file PDF da elaborare\n",
        "from google.colab import files\n",
        "\n",
        "print(\"📂 Carica il file PDF da elaborare:\")\n",
        "uploaded = files.upload()\n",
        "\n",
        "# 4. Salvataggio del file caricato nella cartella pdftool\n",
        "import shutil\n",
        "\n",
        "for filename in uploaded.keys():\n",
        "    shutil.move(filename, f\"./pdftool/{filename}\")\n",
        "    pdf_path = f\"./pdftool/{filename}\"\n",
        "\n",
        "print(f\"✅ PDF caricato correttamente: {pdf_path}\")\n",
        "\n",
        "# 5. Selezione dell'operazione\n",
        "import ipywidgets as widgets\n",
        "from IPython.display import display, clear_output\n",
        "\n",
        "operation = widgets.RadioButtons(\n",
        "    options=['Trascrizione', 'Traduzione', 'Sintesi'],\n",
        "    description='Operazione:',\n",
        "    disabled=False\n",
        ")\n",
        "display(operation)\n",
        "\n",
        "# 6. Pulsante per eseguire l'azione\n",
        "button = widgets.Button(description=\"Esegui\")\n",
        "output = widgets.Output()\n",
        "\n",
        "def on_button_clicked(b):\n",
        "    with output:\n",
        "        clear_output()\n",
        "        print(f\"🔵 Esecuzione: {operation.value}\")\n",
        "\n",
        "        if operation.value == 'Trascrizione':\n",
        "            !python pdftool/src/main.py --action transcribe --file {pdf_path}\n",
        "        elif operation.value == 'Traduzione':\n",
        "            !python pdftool/src/main.py --action translate --file {pdf_path}\n",
        "        elif operation.value == 'Sintesi':\n",
        "            !python pdftool/src/main.py --action summarize --file {pdf_path}\n",
        "\n",
        "button.on_click(on_button_clicked)\n",
        "display(button, output)"
      ]
    }
  ]
}